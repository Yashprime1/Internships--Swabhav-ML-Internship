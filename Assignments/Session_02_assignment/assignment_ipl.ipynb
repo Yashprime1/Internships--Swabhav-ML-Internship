{
 "cells": [
  {
   "cell_type": "code",
   "execution_count": 2,
   "metadata": {},
   "outputs": [],
   "source": [
    "import json"
   ]
  },
  {
   "cell_type": "code",
   "execution_count": 97,
   "metadata": {},
   "outputs": [],
   "source": [
    "import json\n",
    "\n",
    "with open('IPL.json') as f:\n",
    "  data = json.load(f)\n"
   ]
  },
  {
   "cell_type": "code",
   "execution_count": 100,
   "metadata": {},
   "outputs": [
    {
     "name": "stdout",
     "output_type": "stream",
     "text": [
      "Player of the match :  BB McCullum\n"
     ]
    }
   ],
   "source": [
    "k=data['info']['player_of_match'][0]\n",
    "print('Player of the match : ',k)"
   ]
  },
  {
   "cell_type": "code",
   "execution_count": 102,
   "metadata": {},
   "outputs": [
    {
     "name": "stdout",
     "output_type": "stream",
     "text": [
      "Runs scored by :  BB McCullum  :  158\n"
     ]
    }
   ],
   "source": [
    "innings=[]\n",
    "for inning in data['innings']:\n",
    "    innings.append(list(inning.keys()))\n",
    "\n",
    "inn1=data['innings'][0][innings[0][0]]\n",
    "inn2=data['innings'][1][innings[1][0]]\n",
    "del1=inn1['deliveries']\n",
    "del2=inn2['deliveries']\n",
    "d1=[]\n",
    "d2=[]\n",
    "for d in del1:\n",
    "    d1.append(list(d.keys()))\n",
    "for d in del2:\n",
    "    d2.append(list(d.keys()))\n",
    "\n",
    "s=0\n",
    "for i in range(len(del1)):\n",
    "    if(del1[i][str(d1[i][0])]['batsman']==k):\n",
    "        s=s+(del1[i][str(d1[i][0])]['runs']['batsman'])\n",
    "for i in range(len(del2)):\n",
    "    if(del2[i][str(d2[i][0])]['batsman']==k):\n",
    "        s=s+(del1[i][str(d1[i][0])]['runs']['batsman'])\n",
    "print('Runs scored by : ',k,' : ',s)"
   ]
  },
  {
   "cell_type": "code",
   "execution_count": 103,
   "metadata": {},
   "outputs": [
    {
     "name": "stdout",
     "output_type": "stream",
     "text": [
      "Balls faced by :  SC Ganguly  :  12\n"
     ]
    }
   ],
   "source": [
    "s=0\n",
    "k='SC Ganguly'\n",
    "for i in range(len(del1)):\n",
    "    if(del1[i][str(d1[i][0])]['batsman']==k):\n",
    "        s=s+1\n",
    "for i in range(len(del2)):\n",
    "    if(del2[i][str(d2[i][0])]['batsman']==k):\n",
    "        s=s+1\n",
    "print('Balls faced by : ',k,' : ',s)"
   ]
  },
  {
   "cell_type": "code",
   "execution_count": 104,
   "metadata": {},
   "outputs": [
    {
     "name": "stdout",
     "output_type": "stream",
     "text": [
      "Batsman involved in 1st innings\n",
      "['SC Ganguly', 'BB McCullum', 'RT Ponting', 'DJ Hussey', 'Mohammad Hafeez']\n"
     ]
    }
   ],
   "source": [
    "s=[]\n",
    "k='SC Ganguly'\n",
    "for i in range(len(del1)):\n",
    "    if(del1[i][str(d1[i][0])]['batsman'] not in s):\n",
    "        s.append(del1[i][str(d1[i][0])]['batsman'])\n",
    "    if(del1[i][str(d1[i][0])]['non_striker'] not in s):\n",
    "        s.append(del1[i][str(d1[i][0])]['non_striker'])\n",
    "print('Batsman involved in 1st innings')\n",
    "print(s)\n",
    "        "
   ]
  },
  {
   "cell_type": "code",
   "execution_count": null,
   "metadata": {},
   "outputs": [],
   "source": []
  }
 ],
 "metadata": {
  "kernelspec": {
   "display_name": "Python 3",
   "language": "python",
   "name": "python3"
  },
  "language_info": {
   "codemirror_mode": {
    "name": "ipython",
    "version": 3
   },
   "file_extension": ".py",
   "mimetype": "text/x-python",
   "name": "python",
   "nbconvert_exporter": "python",
   "pygments_lexer": "ipython3",
   "version": "3.7.6"
  }
 },
 "nbformat": 4,
 "nbformat_minor": 4
}
