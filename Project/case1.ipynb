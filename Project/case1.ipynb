{
 "cells": [
  {
   "cell_type": "code",
   "execution_count": 18,
   "metadata": {},
   "outputs": [],
   "source": [
    "import pandas as pd\n",
    "import matplotlib.pyplot as plt\n",
    "import numpy as np\n",
    "import seaborn as sns"
   ]
  },
  {
   "cell_type": "code",
   "execution_count": 19,
   "metadata": {},
   "outputs": [],
   "source": [
    "df=pd.read_excel('Analysis Data 1.xlsx')"
   ]
  },
  {
   "cell_type": "code",
   "execution_count": 20,
   "metadata": {},
   "outputs": [
    {
     "data": {
      "text/html": [
       "<div>\n",
       "<style scoped>\n",
       "    .dataframe tbody tr th:only-of-type {\n",
       "        vertical-align: middle;\n",
       "    }\n",
       "\n",
       "    .dataframe tbody tr th {\n",
       "        vertical-align: top;\n",
       "    }\n",
       "\n",
       "    .dataframe thead th {\n",
       "        text-align: right;\n",
       "    }\n",
       "</style>\n",
       "<table border=\"1\" class=\"dataframe\">\n",
       "  <thead>\n",
       "    <tr style=\"text-align: right;\">\n",
       "      <th></th>\n",
       "      <th>Sr. No.</th>\n",
       "      <th>Date</th>\n",
       "      <th>Exhibition Id</th>\n",
       "      <th>Visitor Id</th>\n",
       "      <th>Products</th>\n",
       "      <th>Payment Mode</th>\n",
       "      <th>Amount</th>\n",
       "    </tr>\n",
       "  </thead>\n",
       "  <tbody>\n",
       "    <tr>\n",
       "      <th>0</th>\n",
       "      <td>1</td>\n",
       "      <td>25/Dec/2019</td>\n",
       "      <td>KOL12019</td>\n",
       "      <td>KOL1941617</td>\n",
       "      <td>Accessories</td>\n",
       "      <td>Cash</td>\n",
       "      <td>1350</td>\n",
       "    </tr>\n",
       "    <tr>\n",
       "      <th>1</th>\n",
       "      <td>2</td>\n",
       "      <td>25/Dec/2019</td>\n",
       "      <td>KOL12019</td>\n",
       "      <td>KOL1932365</td>\n",
       "      <td>Accessories</td>\n",
       "      <td>Cash</td>\n",
       "      <td>75000</td>\n",
       "    </tr>\n",
       "    <tr>\n",
       "      <th>2</th>\n",
       "      <td>3</td>\n",
       "      <td>19/Dec/2019</td>\n",
       "      <td>KOL12019</td>\n",
       "      <td>KOL1951287</td>\n",
       "      <td>Accessories</td>\n",
       "      <td>Cash</td>\n",
       "      <td>1000</td>\n",
       "    </tr>\n",
       "    <tr>\n",
       "      <th>3</th>\n",
       "      <td>4</td>\n",
       "      <td>18/Dec/2019</td>\n",
       "      <td>KOL12019</td>\n",
       "      <td>KOL1982621</td>\n",
       "      <td>Accessories</td>\n",
       "      <td>Cash</td>\n",
       "      <td>2000</td>\n",
       "    </tr>\n",
       "    <tr>\n",
       "      <th>4</th>\n",
       "      <td>5</td>\n",
       "      <td>18/Dec/2019</td>\n",
       "      <td>KOL12019</td>\n",
       "      <td>KOL1808748</td>\n",
       "      <td>Accessories</td>\n",
       "      <td>Cash</td>\n",
       "      <td>2350</td>\n",
       "    </tr>\n",
       "    <tr>\n",
       "      <th>...</th>\n",
       "      <td>...</td>\n",
       "      <td>...</td>\n",
       "      <td>...</td>\n",
       "      <td>...</td>\n",
       "      <td>...</td>\n",
       "      <td>...</td>\n",
       "      <td>...</td>\n",
       "    </tr>\n",
       "    <tr>\n",
       "      <th>2634</th>\n",
       "      <td>2635</td>\n",
       "      <td>22/Dec/2019</td>\n",
       "      <td>KOL12019</td>\n",
       "      <td>KOL1965123</td>\n",
       "      <td>Wooden Products</td>\n",
       "      <td>Cash</td>\n",
       "      <td>5500</td>\n",
       "    </tr>\n",
       "    <tr>\n",
       "      <th>2635</th>\n",
       "      <td>2636</td>\n",
       "      <td>25/Dec/2019</td>\n",
       "      <td>KOL12019</td>\n",
       "      <td>KOL1924811</td>\n",
       "      <td>Turkish Lamp</td>\n",
       "      <td>Cash</td>\n",
       "      <td>15000</td>\n",
       "    </tr>\n",
       "    <tr>\n",
       "      <th>2636</th>\n",
       "      <td>2637</td>\n",
       "      <td>22/Dec/2019</td>\n",
       "      <td>KOL12019</td>\n",
       "      <td>KOL1927587</td>\n",
       "      <td>Turkish Lamp</td>\n",
       "      <td>Cash</td>\n",
       "      <td>103990</td>\n",
       "    </tr>\n",
       "    <tr>\n",
       "      <th>2637</th>\n",
       "      <td>2638</td>\n",
       "      <td>16/Dec/2019</td>\n",
       "      <td>KOL12019</td>\n",
       "      <td>KOL1824228</td>\n",
       "      <td>Turkish Lamp</td>\n",
       "      <td>Cash</td>\n",
       "      <td>1600</td>\n",
       "    </tr>\n",
       "    <tr>\n",
       "      <th>2638</th>\n",
       "      <td>2639</td>\n",
       "      <td>14/Dec/2019</td>\n",
       "      <td>KOL12019</td>\n",
       "      <td>KOL1931253</td>\n",
       "      <td>Turkish Lamp</td>\n",
       "      <td>Cash</td>\n",
       "      <td>6000</td>\n",
       "    </tr>\n",
       "  </tbody>\n",
       "</table>\n",
       "<p>2639 rows × 7 columns</p>\n",
       "</div>"
      ],
      "text/plain": [
       "      Sr. No.         Date Exhibition Id  Visitor Id         Products  \\\n",
       "0           1  25/Dec/2019      KOL12019  KOL1941617      Accessories   \n",
       "1           2  25/Dec/2019      KOL12019  KOL1932365      Accessories   \n",
       "2           3  19/Dec/2019      KOL12019  KOL1951287      Accessories   \n",
       "3           4  18/Dec/2019      KOL12019  KOL1982621      Accessories   \n",
       "4           5  18/Dec/2019      KOL12019  KOL1808748      Accessories   \n",
       "...       ...          ...           ...         ...              ...   \n",
       "2634     2635  22/Dec/2019      KOL12019  KOL1965123  Wooden Products   \n",
       "2635     2636  25/Dec/2019      KOL12019  KOL1924811     Turkish Lamp   \n",
       "2636     2637  22/Dec/2019      KOL12019  KOL1927587     Turkish Lamp   \n",
       "2637     2638  16/Dec/2019      KOL12019  KOL1824228     Turkish Lamp   \n",
       "2638     2639  14/Dec/2019      KOL12019  KOL1931253     Turkish Lamp   \n",
       "\n",
       "     Payment Mode  Amount  \n",
       "0            Cash    1350  \n",
       "1            Cash   75000  \n",
       "2            Cash    1000  \n",
       "3            Cash    2000  \n",
       "4            Cash    2350  \n",
       "...           ...     ...  \n",
       "2634         Cash    5500  \n",
       "2635         Cash   15000  \n",
       "2636         Cash  103990  \n",
       "2637         Cash    1600  \n",
       "2638         Cash    6000  \n",
       "\n",
       "[2639 rows x 7 columns]"
      ]
     },
     "execution_count": 20,
     "metadata": {},
     "output_type": "execute_result"
    }
   ],
   "source": [
    "df"
   ]
  },
  {
   "cell_type": "code",
   "execution_count": 21,
   "metadata": {},
   "outputs": [
    {
     "data": {
      "text/html": [
       "<div>\n",
       "<style scoped>\n",
       "    .dataframe tbody tr th:only-of-type {\n",
       "        vertical-align: middle;\n",
       "    }\n",
       "\n",
       "    .dataframe tbody tr th {\n",
       "        vertical-align: top;\n",
       "    }\n",
       "\n",
       "    .dataframe thead th {\n",
       "        text-align: right;\n",
       "    }\n",
       "</style>\n",
       "<table border=\"1\" class=\"dataframe\">\n",
       "  <thead>\n",
       "    <tr style=\"text-align: right;\">\n",
       "      <th></th>\n",
       "      <th>Sr. No.</th>\n",
       "      <th>Date</th>\n",
       "      <th>Exhibition Id</th>\n",
       "      <th>Visitor Id</th>\n",
       "      <th>Products</th>\n",
       "      <th>Payment Mode</th>\n",
       "      <th>Amount</th>\n",
       "    </tr>\n",
       "  </thead>\n",
       "  <tbody>\n",
       "    <tr>\n",
       "      <th>count</th>\n",
       "      <td>2639.000000</td>\n",
       "      <td>2639</td>\n",
       "      <td>2639</td>\n",
       "      <td>2639</td>\n",
       "      <td>2639</td>\n",
       "      <td>2639</td>\n",
       "      <td>2639.000000</td>\n",
       "    </tr>\n",
       "    <tr>\n",
       "      <th>unique</th>\n",
       "      <td>NaN</td>\n",
       "      <td>13</td>\n",
       "      <td>1</td>\n",
       "      <td>1698</td>\n",
       "      <td>133</td>\n",
       "      <td>4</td>\n",
       "      <td>NaN</td>\n",
       "    </tr>\n",
       "    <tr>\n",
       "      <th>top</th>\n",
       "      <td>NaN</td>\n",
       "      <td>25/Dec/2019</td>\n",
       "      <td>KOL12019</td>\n",
       "      <td>KOL1832746</td>\n",
       "      <td>Suits</td>\n",
       "      <td>Cash</td>\n",
       "      <td>NaN</td>\n",
       "    </tr>\n",
       "    <tr>\n",
       "      <th>freq</th>\n",
       "      <td>NaN</td>\n",
       "      <td>377</td>\n",
       "      <td>2639</td>\n",
       "      <td>20</td>\n",
       "      <td>413</td>\n",
       "      <td>2447</td>\n",
       "      <td>NaN</td>\n",
       "    </tr>\n",
       "    <tr>\n",
       "      <th>mean</th>\n",
       "      <td>1320.000000</td>\n",
       "      <td>NaN</td>\n",
       "      <td>NaN</td>\n",
       "      <td>NaN</td>\n",
       "      <td>NaN</td>\n",
       "      <td>NaN</td>\n",
       "      <td>7861.066313</td>\n",
       "    </tr>\n",
       "    <tr>\n",
       "      <th>std</th>\n",
       "      <td>761.958004</td>\n",
       "      <td>NaN</td>\n",
       "      <td>NaN</td>\n",
       "      <td>NaN</td>\n",
       "      <td>NaN</td>\n",
       "      <td>NaN</td>\n",
       "      <td>15743.689785</td>\n",
       "    </tr>\n",
       "    <tr>\n",
       "      <th>min</th>\n",
       "      <td>1.000000</td>\n",
       "      <td>NaN</td>\n",
       "      <td>NaN</td>\n",
       "      <td>NaN</td>\n",
       "      <td>NaN</td>\n",
       "      <td>NaN</td>\n",
       "      <td>1.000000</td>\n",
       "    </tr>\n",
       "    <tr>\n",
       "      <th>25%</th>\n",
       "      <td>660.500000</td>\n",
       "      <td>NaN</td>\n",
       "      <td>NaN</td>\n",
       "      <td>NaN</td>\n",
       "      <td>NaN</td>\n",
       "      <td>NaN</td>\n",
       "      <td>1500.000000</td>\n",
       "    </tr>\n",
       "    <tr>\n",
       "      <th>50%</th>\n",
       "      <td>1320.000000</td>\n",
       "      <td>NaN</td>\n",
       "      <td>NaN</td>\n",
       "      <td>NaN</td>\n",
       "      <td>NaN</td>\n",
       "      <td>NaN</td>\n",
       "      <td>4000.000000</td>\n",
       "    </tr>\n",
       "    <tr>\n",
       "      <th>75%</th>\n",
       "      <td>1979.500000</td>\n",
       "      <td>NaN</td>\n",
       "      <td>NaN</td>\n",
       "      <td>NaN</td>\n",
       "      <td>NaN</td>\n",
       "      <td>NaN</td>\n",
       "      <td>7350.000000</td>\n",
       "    </tr>\n",
       "    <tr>\n",
       "      <th>max</th>\n",
       "      <td>2639.000000</td>\n",
       "      <td>NaN</td>\n",
       "      <td>NaN</td>\n",
       "      <td>NaN</td>\n",
       "      <td>NaN</td>\n",
       "      <td>NaN</td>\n",
       "      <td>325347.000000</td>\n",
       "    </tr>\n",
       "  </tbody>\n",
       "</table>\n",
       "</div>"
      ],
      "text/plain": [
       "            Sr. No.         Date Exhibition Id  Visitor Id Products  \\\n",
       "count   2639.000000         2639          2639        2639     2639   \n",
       "unique          NaN           13             1        1698      133   \n",
       "top             NaN  25/Dec/2019      KOL12019  KOL1832746    Suits   \n",
       "freq            NaN          377          2639          20      413   \n",
       "mean    1320.000000          NaN           NaN         NaN      NaN   \n",
       "std      761.958004          NaN           NaN         NaN      NaN   \n",
       "min        1.000000          NaN           NaN         NaN      NaN   \n",
       "25%      660.500000          NaN           NaN         NaN      NaN   \n",
       "50%     1320.000000          NaN           NaN         NaN      NaN   \n",
       "75%     1979.500000          NaN           NaN         NaN      NaN   \n",
       "max     2639.000000          NaN           NaN         NaN      NaN   \n",
       "\n",
       "       Payment Mode         Amount  \n",
       "count          2639    2639.000000  \n",
       "unique            4            NaN  \n",
       "top            Cash            NaN  \n",
       "freq           2447            NaN  \n",
       "mean            NaN    7861.066313  \n",
       "std             NaN   15743.689785  \n",
       "min             NaN       1.000000  \n",
       "25%             NaN    1500.000000  \n",
       "50%             NaN    4000.000000  \n",
       "75%             NaN    7350.000000  \n",
       "max             NaN  325347.000000  "
      ]
     },
     "execution_count": 21,
     "metadata": {},
     "output_type": "execute_result"
    }
   ],
   "source": [
    "df.describe(include='all')"
   ]
  },
  {
   "cell_type": "code",
   "execution_count": 22,
   "metadata": {},
   "outputs": [
    {
     "name": "stdout",
     "output_type": "stream",
     "text": [
      "<class 'pandas.core.frame.DataFrame'>\n",
      "RangeIndex: 2639 entries, 0 to 2638\n",
      "Data columns (total 7 columns):\n",
      " #   Column         Non-Null Count  Dtype \n",
      "---  ------         --------------  ----- \n",
      " 0   Sr. No.        2639 non-null   int64 \n",
      " 1   Date           2639 non-null   object\n",
      " 2   Exhibition Id  2639 non-null   object\n",
      " 3   Visitor Id     2639 non-null   object\n",
      " 4   Products       2639 non-null   object\n",
      " 5   Payment Mode   2639 non-null   object\n",
      " 6   Amount         2639 non-null   int64 \n",
      "dtypes: int64(2), object(5)\n",
      "memory usage: 144.4+ KB\n"
     ]
    }
   ],
   "source": [
    "df.info()"
   ]
  },
  {
   "cell_type": "code",
   "execution_count": 23,
   "metadata": {},
   "outputs": [
    {
     "data": {
      "text/plain": [
       "133"
      ]
     },
     "execution_count": 23,
     "metadata": {},
     "output_type": "execute_result"
    }
   ],
   "source": [
    "len(df['Products'].unique())"
   ]
  },
  {
   "cell_type": "code",
   "execution_count": 24,
   "metadata": {},
   "outputs": [
    {
     "data": {
      "text/plain": [
       "array(['Accessories', 'Air Cooler', 'artificial candle & lights', 'Attar',\n",
       "       'Bag', 'Bathroom Essentials,Oils', 'Bedsheet', 'Belt',\n",
       "       'Belt,Wallet', 'Belt,Wallet,Bag', 'Body oil', 'Carpet',\n",
       "       'Ceramic ware', 'chandelier', 'Chappals', 'Chappals,Sandals',\n",
       "       'Clock', 'Cloths', 'Club Booking', 'Coffee', 'Cosmetics',\n",
       "       'Cotton/Silk', 'Crockery', 'Decorative lights',\n",
       "       'Decorative lights,artificial candle & lights',\n",
       "       'Digestives and probiotics', 'Dress material', 'Dry Fruit',\n",
       "       'Duppatta', 'Electric Chair', 'electric chair', 'Electric Tandoor',\n",
       "       'Etthnic Wear', 'Flavored Drinks', 'Food Mixes',\n",
       "       'frames & artifacts', 'frames & artifacts,Painting', 'Fridge',\n",
       "       'Fruit Juices', 'Fruits', 'Fruits,Vegetables', 'Furniture',\n",
       "       'Garments', 'Garments,Accessories', 'Gems & Jewellery',\n",
       "       'Gift product', 'Gym', 'gym products', 'Handicraft', 'handloom',\n",
       "       'healthacare products', 'HealthCare', 'Home Appliances',\n",
       "       'Home Decor', 'income tax', 'Investment', 'Iron box lights',\n",
       "       'Jamdani Saree', 'Jewellery', 'Jewellery,Necklace', 'jute bags',\n",
       "       'Kitchen appliances', 'Kitchen appliances,Home Appliances',\n",
       "       'Kurta', 'Kurta, Dressmaterial,Sarees,Suits', 'Kurta,Salwar',\n",
       "       'Kurta,Wallet', 'kurti', 'kurti,Duppatta', 'Lamps', 'Machinaries',\n",
       "       'Massager', 'Mat/Chatai', 'Mattress', 'mayonise, butter, cheese',\n",
       "       'Mayonnaise', 'Meditation session', 'milk powder', 'Mixer',\n",
       "       'Modular Kitchen', 'Mosquito Net', 'Mosquito Net,Blinds',\n",
       "       'Necklace', 'onyx marble', 'Painting', 'Pants', 'Papad', 'Pens',\n",
       "       'Photo frame', 'Product Name dummy text',\n",
       "       'Product Name dummy text,artificial candle & lights', 'Pulses',\n",
       "       'Refrigerator', 'Religious Book', 'Religious Photographs',\n",
       "       'Remote Covers', 'Rings,Necklace', 'Saffron', 'Salwar', 'Saree',\n",
       "       'Saree,Duppatta', 'Saree,kurti', 'Scarf',\n",
       "       'Scarf, Gloves, Handband', 'scarfs,Suits,Kurta',\n",
       "       'scarfs,Suits,Kurta,Saree,kurti,Shirts', 'Shawl', 'Shawl,Scarf',\n",
       "       'shoe rack', 'Shoes', 'Sofa cum bed',\n",
       "       'Sofa cum bed,Wood  furniture', 'Stain Removers', 'Steam Irons',\n",
       "       'Steamer', 'Suits', 'Table Covers', 'Tableware', 'Tea',\n",
       "       'Television', 'textile product', 'Toy', 'Vegetables',\n",
       "       'wall hanging', 'Wallet', 'Wallet,Bag', 'Wallpaper',\n",
       "       'Wallpaper,Blinds', 'Washing Machine', 'Water purifier',\n",
       "       'Wood  furniture', 'Wooden Products', 'Turkish Lamp'], dtype=object)"
      ]
     },
     "execution_count": 24,
     "metadata": {},
     "output_type": "execute_result"
    }
   ],
   "source": [
    "df['Products'].unique()"
   ]
  },
  {
   "cell_type": "code",
   "execution_count": 25,
   "metadata": {},
   "outputs": [
    {
     "data": {
      "text/html": [
       "<div>\n",
       "<style scoped>\n",
       "    .dataframe tbody tr th:only-of-type {\n",
       "        vertical-align: middle;\n",
       "    }\n",
       "\n",
       "    .dataframe tbody tr th {\n",
       "        vertical-align: top;\n",
       "    }\n",
       "\n",
       "    .dataframe thead th {\n",
       "        text-align: right;\n",
       "    }\n",
       "</style>\n",
       "<table border=\"1\" class=\"dataframe\">\n",
       "  <thead>\n",
       "    <tr style=\"text-align: right;\">\n",
       "      <th>Date</th>\n",
       "      <th>13/Dec/2019</th>\n",
       "      <th>14/Dec/2019</th>\n",
       "      <th>15/Dec/2019</th>\n",
       "      <th>16/Dec/2019</th>\n",
       "      <th>17/Dec/2019</th>\n",
       "      <th>18/Dec/2019</th>\n",
       "      <th>19/Dec/2019</th>\n",
       "      <th>20/Dec/2019</th>\n",
       "      <th>21/Dec/2019</th>\n",
       "      <th>22/Dec/2019</th>\n",
       "      <th>23/Dec/2019</th>\n",
       "      <th>24/Dec/2019</th>\n",
       "      <th>25/Dec/2019</th>\n",
       "    </tr>\n",
       "  </thead>\n",
       "  <tbody>\n",
       "    <tr>\n",
       "      <th>Products</th>\n",
       "      <td>112</td>\n",
       "      <td>102</td>\n",
       "      <td>278</td>\n",
       "      <td>72</td>\n",
       "      <td>125</td>\n",
       "      <td>158</td>\n",
       "      <td>138</td>\n",
       "      <td>141</td>\n",
       "      <td>225</td>\n",
       "      <td>331</td>\n",
       "      <td>373</td>\n",
       "      <td>207</td>\n",
       "      <td>377</td>\n",
       "    </tr>\n",
       "  </tbody>\n",
       "</table>\n",
       "</div>"
      ],
      "text/plain": [
       "Date      13/Dec/2019  14/Dec/2019  15/Dec/2019  16/Dec/2019  17/Dec/2019  \\\n",
       "Products          112          102          278           72          125   \n",
       "\n",
       "Date      18/Dec/2019  19/Dec/2019  20/Dec/2019  21/Dec/2019  22/Dec/2019  \\\n",
       "Products          158          138          141          225          331   \n",
       "\n",
       "Date      23/Dec/2019  24/Dec/2019  25/Dec/2019  \n",
       "Products          373          207          377  "
      ]
     },
     "execution_count": 25,
     "metadata": {},
     "output_type": "execute_result"
    }
   ],
   "source": [
    "df.pivot_table(values='Products',aggfunc='count',columns='Date')"
   ]
  },
  {
   "cell_type": "code",
   "execution_count": 26,
   "metadata": {},
   "outputs": [
    {
     "data": {
      "text/plain": [
       "Suits            413\n",
       "Garments         360\n",
       "Jamdani Saree    196\n",
       "Dry Fruit        105\n",
       "Massager          90\n",
       "                ... \n",
       "Scarf              1\n",
       "Steamer            1\n",
       "Kurta,Salwar       1\n",
       "Fruits             1\n",
       "Kurta,Wallet       1\n",
       "Name: Products, Length: 133, dtype: int64"
      ]
     },
     "execution_count": 26,
     "metadata": {},
     "output_type": "execute_result"
    }
   ],
   "source": [
    "products_sold=df['Products'].value_counts()\n",
    "products_sold"
   ]
  },
  {
   "cell_type": "code",
   "execution_count": 36,
   "metadata": {},
   "outputs": [],
   "source": [
    "df_products = df.groupby(by='Products', as_index=False).agg({'Sr. No.': pd.Series.nunique})"
   ]
  },
  {
   "cell_type": "code",
   "execution_count": 38,
   "metadata": {},
   "outputs": [
    {
     "data": {
      "text/plain": [
       "pandas.core.frame.DataFrame"
      ]
     },
     "execution_count": 38,
     "metadata": {},
     "output_type": "execute_result"
    }
   ],
   "source": [
    "type(df_products)"
   ]
  },
  {
   "cell_type": "code",
   "execution_count": 48,
   "metadata": {},
   "outputs": [],
   "source": [
    "df_products.columns=['Products','Count']"
   ]
  },
  {
   "cell_type": "code",
   "execution_count": 49,
   "metadata": {},
   "outputs": [
    {
     "data": {
      "text/html": [
       "<div>\n",
       "<style scoped>\n",
       "    .dataframe tbody tr th:only-of-type {\n",
       "        vertical-align: middle;\n",
       "    }\n",
       "\n",
       "    .dataframe tbody tr th {\n",
       "        vertical-align: top;\n",
       "    }\n",
       "\n",
       "    .dataframe thead th {\n",
       "        text-align: right;\n",
       "    }\n",
       "</style>\n",
       "<table border=\"1\" class=\"dataframe\">\n",
       "  <thead>\n",
       "    <tr style=\"text-align: right;\">\n",
       "      <th></th>\n",
       "      <th>Products</th>\n",
       "      <th>Count</th>\n",
       "    </tr>\n",
       "  </thead>\n",
       "  <tbody>\n",
       "    <tr>\n",
       "      <th>0</th>\n",
       "      <td>Accessories</td>\n",
       "      <td>6</td>\n",
       "    </tr>\n",
       "    <tr>\n",
       "      <th>1</th>\n",
       "      <td>Air Cooler</td>\n",
       "      <td>20</td>\n",
       "    </tr>\n",
       "    <tr>\n",
       "      <th>2</th>\n",
       "      <td>Attar</td>\n",
       "      <td>17</td>\n",
       "    </tr>\n",
       "    <tr>\n",
       "      <th>3</th>\n",
       "      <td>Bag</td>\n",
       "      <td>46</td>\n",
       "    </tr>\n",
       "    <tr>\n",
       "      <th>4</th>\n",
       "      <td>Bathroom Essentials,Oils</td>\n",
       "      <td>1</td>\n",
       "    </tr>\n",
       "    <tr>\n",
       "      <th>...</th>\n",
       "      <td>...</td>\n",
       "      <td>...</td>\n",
       "    </tr>\n",
       "    <tr>\n",
       "      <th>128</th>\n",
       "      <td>scarfs,Suits,Kurta</td>\n",
       "      <td>2</td>\n",
       "    </tr>\n",
       "    <tr>\n",
       "      <th>129</th>\n",
       "      <td>scarfs,Suits,Kurta,Saree,kurti,Shirts</td>\n",
       "      <td>1</td>\n",
       "    </tr>\n",
       "    <tr>\n",
       "      <th>130</th>\n",
       "      <td>shoe rack</td>\n",
       "      <td>3</td>\n",
       "    </tr>\n",
       "    <tr>\n",
       "      <th>131</th>\n",
       "      <td>textile product</td>\n",
       "      <td>8</td>\n",
       "    </tr>\n",
       "    <tr>\n",
       "      <th>132</th>\n",
       "      <td>wall hanging</td>\n",
       "      <td>4</td>\n",
       "    </tr>\n",
       "  </tbody>\n",
       "</table>\n",
       "<p>133 rows × 2 columns</p>\n",
       "</div>"
      ],
      "text/plain": [
       "                                  Products  Count\n",
       "0                              Accessories      6\n",
       "1                               Air Cooler     20\n",
       "2                                    Attar     17\n",
       "3                                      Bag     46\n",
       "4                 Bathroom Essentials,Oils      1\n",
       "..                                     ...    ...\n",
       "128                     scarfs,Suits,Kurta      2\n",
       "129  scarfs,Suits,Kurta,Saree,kurti,Shirts      1\n",
       "130                              shoe rack      3\n",
       "131                        textile product      8\n",
       "132                           wall hanging      4\n",
       "\n",
       "[133 rows x 2 columns]"
      ]
     },
     "execution_count": 49,
     "metadata": {},
     "output_type": "execute_result"
    }
   ],
   "source": [
    "df_products"
   ]
  },
  {
   "cell_type": "code",
   "execution_count": 63,
   "metadata": {},
   "outputs": [
    {
     "data": {
      "text/plain": [
       "19.842105263157894"
      ]
     },
     "execution_count": 63,
     "metadata": {},
     "output_type": "execute_result"
    }
   ],
   "source": [
    "df_products['Count'].mean()"
   ]
  },
  {
   "cell_type": "code",
   "execution_count": 64,
   "metadata": {},
   "outputs": [
    {
     "data": {
      "text/plain": [
       "6.0"
      ]
     },
     "execution_count": 64,
     "metadata": {},
     "output_type": "execute_result"
    }
   ],
   "source": [
    "df_products['Count'].median()"
   ]
  },
  {
   "cell_type": "code",
   "execution_count": 65,
   "metadata": {},
   "outputs": [
    {
     "data": {
      "text/plain": [
       "413"
      ]
     },
     "execution_count": 65,
     "metadata": {},
     "output_type": "execute_result"
    }
   ],
   "source": [
    "max(df_products['Count'])"
   ]
  },
  {
   "cell_type": "code",
   "execution_count": 66,
   "metadata": {},
   "outputs": [
    {
     "data": {
      "text/plain": [
       "1"
      ]
     },
     "execution_count": 66,
     "metadata": {},
     "output_type": "execute_result"
    }
   ],
   "source": [
    "min(df_products['Count'])"
   ]
  },
  {
   "cell_type": "markdown",
   "metadata": {},
   "source": [
    "## Dividing Product into Categories as per Sale Counts"
   ]
  },
  {
   "cell_type": "code",
   "execution_count": 123,
   "metadata": {},
   "outputs": [],
   "source": [
    "bins=[0,30,100,150,200,450]\n",
    "group=['very low sales','low sales','Average sales','high sales','very high sales']"
   ]
  },
  {
   "cell_type": "code",
   "execution_count": 124,
   "metadata": {},
   "outputs": [],
   "source": [
    "df_products['SalesBin']=pd.cut(df_products['Count'],bins,labels=group)"
   ]
  },
  {
   "cell_type": "code",
   "execution_count": 125,
   "metadata": {},
   "outputs": [],
   "source": [
    "df_vlow_sales_product=df_products[df_products['SalesBin']=='very low sales']\n",
    "df_low_sales_product=df_products[df_products['SalesBin']=='low sales']\n",
    "df_avg_sales_product=df_products[df_products['SalesBin']=='Average sales']\n",
    "df_high_sales_product=df_products[df_products['SalesBin']=='high sales']\n",
    "df_vhigh_sales_product=df_products[df_products['SalesBin']=='very high sales']"
   ]
  },
  {
   "cell_type": "code",
   "execution_count": 126,
   "metadata": {},
   "outputs": [
    {
     "data": {
      "text/html": [
       "<div>\n",
       "<style scoped>\n",
       "    .dataframe tbody tr th:only-of-type {\n",
       "        vertical-align: middle;\n",
       "    }\n",
       "\n",
       "    .dataframe tbody tr th {\n",
       "        vertical-align: top;\n",
       "    }\n",
       "\n",
       "    .dataframe thead th {\n",
       "        text-align: right;\n",
       "    }\n",
       "</style>\n",
       "<table border=\"1\" class=\"dataframe\">\n",
       "  <thead>\n",
       "    <tr style=\"text-align: right;\">\n",
       "      <th></th>\n",
       "      <th>Products</th>\n",
       "      <th>Count</th>\n",
       "      <th>SalesBin</th>\n",
       "    </tr>\n",
       "  </thead>\n",
       "  <tbody>\n",
       "    <tr>\n",
       "      <th>0</th>\n",
       "      <td>Accessories</td>\n",
       "      <td>6</td>\n",
       "      <td>very low sales</td>\n",
       "    </tr>\n",
       "    <tr>\n",
       "      <th>1</th>\n",
       "      <td>Air Cooler</td>\n",
       "      <td>20</td>\n",
       "      <td>very low sales</td>\n",
       "    </tr>\n",
       "    <tr>\n",
       "      <th>2</th>\n",
       "      <td>Attar</td>\n",
       "      <td>17</td>\n",
       "      <td>very low sales</td>\n",
       "    </tr>\n",
       "    <tr>\n",
       "      <th>4</th>\n",
       "      <td>Bathroom Essentials,Oils</td>\n",
       "      <td>1</td>\n",
       "      <td>very low sales</td>\n",
       "    </tr>\n",
       "    <tr>\n",
       "      <th>5</th>\n",
       "      <td>Bedsheet</td>\n",
       "      <td>26</td>\n",
       "      <td>very low sales</td>\n",
       "    </tr>\n",
       "    <tr>\n",
       "      <th>...</th>\n",
       "      <td>...</td>\n",
       "      <td>...</td>\n",
       "      <td>...</td>\n",
       "    </tr>\n",
       "    <tr>\n",
       "      <th>128</th>\n",
       "      <td>scarfs,Suits,Kurta</td>\n",
       "      <td>2</td>\n",
       "      <td>very low sales</td>\n",
       "    </tr>\n",
       "    <tr>\n",
       "      <th>129</th>\n",
       "      <td>scarfs,Suits,Kurta,Saree,kurti,Shirts</td>\n",
       "      <td>1</td>\n",
       "      <td>very low sales</td>\n",
       "    </tr>\n",
       "    <tr>\n",
       "      <th>130</th>\n",
       "      <td>shoe rack</td>\n",
       "      <td>3</td>\n",
       "      <td>very low sales</td>\n",
       "    </tr>\n",
       "    <tr>\n",
       "      <th>131</th>\n",
       "      <td>textile product</td>\n",
       "      <td>8</td>\n",
       "      <td>very low sales</td>\n",
       "    </tr>\n",
       "    <tr>\n",
       "      <th>132</th>\n",
       "      <td>wall hanging</td>\n",
       "      <td>4</td>\n",
       "      <td>very low sales</td>\n",
       "    </tr>\n",
       "  </tbody>\n",
       "</table>\n",
       "<p>116 rows × 3 columns</p>\n",
       "</div>"
      ],
      "text/plain": [
       "                                  Products  Count        SalesBin\n",
       "0                              Accessories      6  very low sales\n",
       "1                               Air Cooler     20  very low sales\n",
       "2                                    Attar     17  very low sales\n",
       "4                 Bathroom Essentials,Oils      1  very low sales\n",
       "5                                 Bedsheet     26  very low sales\n",
       "..                                     ...    ...             ...\n",
       "128                     scarfs,Suits,Kurta      2  very low sales\n",
       "129  scarfs,Suits,Kurta,Saree,kurti,Shirts      1  very low sales\n",
       "130                              shoe rack      3  very low sales\n",
       "131                        textile product      8  very low sales\n",
       "132                           wall hanging      4  very low sales\n",
       "\n",
       "[116 rows x 3 columns]"
      ]
     },
     "execution_count": 126,
     "metadata": {},
     "output_type": "execute_result"
    }
   ],
   "source": [
    "df_vlow_sales_product"
   ]
  },
  {
   "cell_type": "code",
   "execution_count": 127,
   "metadata": {},
   "outputs": [
    {
     "data": {
      "text/html": [
       "<div>\n",
       "<style scoped>\n",
       "    .dataframe tbody tr th:only-of-type {\n",
       "        vertical-align: middle;\n",
       "    }\n",
       "\n",
       "    .dataframe tbody tr th {\n",
       "        vertical-align: top;\n",
       "    }\n",
       "\n",
       "    .dataframe thead th {\n",
       "        text-align: right;\n",
       "    }\n",
       "</style>\n",
       "<table border=\"1\" class=\"dataframe\">\n",
       "  <thead>\n",
       "    <tr style=\"text-align: right;\">\n",
       "      <th></th>\n",
       "      <th>Products</th>\n",
       "      <th>Count</th>\n",
       "      <th>SalesBin</th>\n",
       "    </tr>\n",
       "  </thead>\n",
       "  <tbody>\n",
       "    <tr>\n",
       "      <th>3</th>\n",
       "      <td>Bag</td>\n",
       "      <td>46</td>\n",
       "      <td>low sales</td>\n",
       "    </tr>\n",
       "    <tr>\n",
       "      <th>10</th>\n",
       "      <td>Carpet</td>\n",
       "      <td>62</td>\n",
       "      <td>low sales</td>\n",
       "    </tr>\n",
       "    <tr>\n",
       "      <th>33</th>\n",
       "      <td>Fruit Juices</td>\n",
       "      <td>40</td>\n",
       "      <td>low sales</td>\n",
       "    </tr>\n",
       "    <tr>\n",
       "      <th>36</th>\n",
       "      <td>Furniture</td>\n",
       "      <td>71</td>\n",
       "      <td>low sales</td>\n",
       "    </tr>\n",
       "    <tr>\n",
       "      <th>44</th>\n",
       "      <td>Home Appliances</td>\n",
       "      <td>83</td>\n",
       "      <td>low sales</td>\n",
       "    </tr>\n",
       "    <tr>\n",
       "      <th>59</th>\n",
       "      <td>Massager</td>\n",
       "      <td>90</td>\n",
       "      <td>low sales</td>\n",
       "    </tr>\n",
       "    <tr>\n",
       "      <th>84</th>\n",
       "      <td>Saree</td>\n",
       "      <td>38</td>\n",
       "      <td>low sales</td>\n",
       "    </tr>\n",
       "    <tr>\n",
       "      <th>92</th>\n",
       "      <td>Sofa cum bed</td>\n",
       "      <td>64</td>\n",
       "      <td>low sales</td>\n",
       "    </tr>\n",
       "    <tr>\n",
       "      <th>95</th>\n",
       "      <td>Steam Irons</td>\n",
       "      <td>77</td>\n",
       "      <td>low sales</td>\n",
       "    </tr>\n",
       "    <tr>\n",
       "      <th>111</th>\n",
       "      <td>Wood  furniture</td>\n",
       "      <td>36</td>\n",
       "      <td>low sales</td>\n",
       "    </tr>\n",
       "    <tr>\n",
       "      <th>118</th>\n",
       "      <td>gym products</td>\n",
       "      <td>31</td>\n",
       "      <td>low sales</td>\n",
       "    </tr>\n",
       "    <tr>\n",
       "      <th>120</th>\n",
       "      <td>healthacare products</td>\n",
       "      <td>42</td>\n",
       "      <td>low sales</td>\n",
       "    </tr>\n",
       "    <tr>\n",
       "      <th>123</th>\n",
       "      <td>kurti</td>\n",
       "      <td>66</td>\n",
       "      <td>low sales</td>\n",
       "    </tr>\n",
       "  </tbody>\n",
       "</table>\n",
       "</div>"
      ],
      "text/plain": [
       "                 Products  Count   SalesBin\n",
       "3                     Bag     46  low sales\n",
       "10                 Carpet     62  low sales\n",
       "33           Fruit Juices     40  low sales\n",
       "36              Furniture     71  low sales\n",
       "44        Home Appliances     83  low sales\n",
       "59               Massager     90  low sales\n",
       "84                  Saree     38  low sales\n",
       "92           Sofa cum bed     64  low sales\n",
       "95            Steam Irons     77  low sales\n",
       "111       Wood  furniture     36  low sales\n",
       "118          gym products     31  low sales\n",
       "120  healthacare products     42  low sales\n",
       "123                 kurti     66  low sales"
      ]
     },
     "execution_count": 127,
     "metadata": {},
     "output_type": "execute_result"
    }
   ],
   "source": [
    "df_low_sales_product"
   ]
  },
  {
   "cell_type": "code",
   "execution_count": 128,
   "metadata": {},
   "outputs": [
    {
     "data": {
      "text/html": [
       "<div>\n",
       "<style scoped>\n",
       "    .dataframe tbody tr th:only-of-type {\n",
       "        vertical-align: middle;\n",
       "    }\n",
       "\n",
       "    .dataframe tbody tr th {\n",
       "        vertical-align: top;\n",
       "    }\n",
       "\n",
       "    .dataframe thead th {\n",
       "        text-align: right;\n",
       "    }\n",
       "</style>\n",
       "<table border=\"1\" class=\"dataframe\">\n",
       "  <thead>\n",
       "    <tr style=\"text-align: right;\">\n",
       "      <th></th>\n",
       "      <th>Products</th>\n",
       "      <th>Count</th>\n",
       "      <th>SalesBin</th>\n",
       "    </tr>\n",
       "  </thead>\n",
       "  <tbody>\n",
       "    <tr>\n",
       "      <th>25</th>\n",
       "      <td>Dry Fruit</td>\n",
       "      <td>105</td>\n",
       "      <td>Average sales</td>\n",
       "    </tr>\n",
       "  </tbody>\n",
       "</table>\n",
       "</div>"
      ],
      "text/plain": [
       "     Products  Count       SalesBin\n",
       "25  Dry Fruit    105  Average sales"
      ]
     },
     "execution_count": 128,
     "metadata": {},
     "output_type": "execute_result"
    }
   ],
   "source": [
    "df_avg_sales_product"
   ]
  },
  {
   "cell_type": "code",
   "execution_count": 129,
   "metadata": {},
   "outputs": [
    {
     "data": {
      "text/html": [
       "<div>\n",
       "<style scoped>\n",
       "    .dataframe tbody tr th:only-of-type {\n",
       "        vertical-align: middle;\n",
       "    }\n",
       "\n",
       "    .dataframe tbody tr th {\n",
       "        vertical-align: top;\n",
       "    }\n",
       "\n",
       "    .dataframe thead th {\n",
       "        text-align: right;\n",
       "    }\n",
       "</style>\n",
       "<table border=\"1\" class=\"dataframe\">\n",
       "  <thead>\n",
       "    <tr style=\"text-align: right;\">\n",
       "      <th></th>\n",
       "      <th>Products</th>\n",
       "      <th>Count</th>\n",
       "      <th>SalesBin</th>\n",
       "    </tr>\n",
       "  </thead>\n",
       "  <tbody>\n",
       "    <tr>\n",
       "      <th>48</th>\n",
       "      <td>Jamdani Saree</td>\n",
       "      <td>196</td>\n",
       "      <td>high sales</td>\n",
       "    </tr>\n",
       "  </tbody>\n",
       "</table>\n",
       "</div>"
      ],
      "text/plain": [
       "         Products  Count    SalesBin\n",
       "48  Jamdani Saree    196  high sales"
      ]
     },
     "execution_count": 129,
     "metadata": {},
     "output_type": "execute_result"
    }
   ],
   "source": [
    "df_high_sales_product"
   ]
  },
  {
   "cell_type": "code",
   "execution_count": 130,
   "metadata": {},
   "outputs": [
    {
     "data": {
      "text/html": [
       "<div>\n",
       "<style scoped>\n",
       "    .dataframe tbody tr th:only-of-type {\n",
       "        vertical-align: middle;\n",
       "    }\n",
       "\n",
       "    .dataframe tbody tr th {\n",
       "        vertical-align: top;\n",
       "    }\n",
       "\n",
       "    .dataframe thead th {\n",
       "        text-align: right;\n",
       "    }\n",
       "</style>\n",
       "<table border=\"1\" class=\"dataframe\">\n",
       "  <thead>\n",
       "    <tr style=\"text-align: right;\">\n",
       "      <th></th>\n",
       "      <th>Products</th>\n",
       "      <th>Count</th>\n",
       "      <th>SalesBin</th>\n",
       "    </tr>\n",
       "  </thead>\n",
       "  <tbody>\n",
       "    <tr>\n",
       "      <th>37</th>\n",
       "      <td>Garments</td>\n",
       "      <td>360</td>\n",
       "      <td>very high sales</td>\n",
       "    </tr>\n",
       "    <tr>\n",
       "      <th>97</th>\n",
       "      <td>Suits</td>\n",
       "      <td>413</td>\n",
       "      <td>very high sales</td>\n",
       "    </tr>\n",
       "  </tbody>\n",
       "</table>\n",
       "</div>"
      ],
      "text/plain": [
       "    Products  Count         SalesBin\n",
       "37  Garments    360  very high sales\n",
       "97     Suits    413  very high sales"
      ]
     },
     "execution_count": 130,
     "metadata": {},
     "output_type": "execute_result"
    }
   ],
   "source": [
    "df_vhigh_sales_product"
   ]
  },
  {
   "cell_type": "markdown",
   "metadata": {},
   "source": [
    "## Analyzing each product division as per categories"
   ]
  },
  {
   "cell_type": "code",
   "execution_count": 131,
   "metadata": {},
   "outputs": [],
   "source": [
    "## very high division"
   ]
  },
  {
   "cell_type": "code",
   "execution_count": 133,
   "metadata": {},
   "outputs": [
    {
     "data": {
      "text/plain": [
       "<matplotlib.axes._subplots.AxesSubplot at 0x7fa98861f290>"
      ]
     },
     "execution_count": 133,
     "metadata": {},
     "output_type": "execute_result"
    },
    {
     "data": {
      "image/png": "[encoded data removed]",
      "text/plain": [
       "<Figure size 432x288 with 1 Axes>"
      ]
     },
     "metadata": {
      "needs_background": "light"
     },
     "output_type": "display_data"
    }
   ],
   "source": [
    "sns.barplot(x='Products',y='Count',data=df_vhigh_sales_product)"
   ]
  },
  {
   "cell_type": "code",
   "execution_count": 144,
   "metadata": {},
   "outputs": [
    {
     "data": {
      "text/plain": [
       "Count    386.5\n",
       "dtype: float64"
      ]
     },
     "execution_count": 144,
     "metadata": {},
     "output_type": "execute_result"
    }
   ],
   "source": [
    "df_vhigh_sales_product.mean()"
   ]
  },
  {
   "cell_type": "code",
   "execution_count": 145,
   "metadata": {},
   "outputs": [
    {
     "data": {
      "text/plain": [
       "Count    386.5\n",
       "dtype: float64"
      ]
     },
     "execution_count": 145,
     "metadata": {},
     "output_type": "execute_result"
    }
   ],
   "source": [
    "df_vhigh_sales_product.median()"
   ]
  },
  {
   "cell_type": "code",
   "execution_count": 136,
   "metadata": {},
   "outputs": [],
   "source": [
    "## high division - nothing to compare since one product comes into this category"
   ]
  },
  {
   "cell_type": "code",
   "execution_count": 137,
   "metadata": {},
   "outputs": [
    {
     "data": {
      "text/plain": [
       "<matplotlib.axes._subplots.AxesSubplot at 0x7fa98a741cd0>"
      ]
     },
     "execution_count": 137,
     "metadata": {},
     "output_type": "execute_result"
    },
    {
     "data": {
      "image/png": "[encoded data removed]",
      "text/plain": [
       "<Figure size 432x288 with 1 Axes>"
      ]
     },
     "metadata": {
      "needs_background": "light"
     },
     "output_type": "display_data"
    }
   ],
   "source": [
    "sns.barplot(x='Products',y='Count',data=df_high_sales_product)"
   ]
  },
  {
   "cell_type": "code",
   "execution_count": 138,
   "metadata": {},
   "outputs": [],
   "source": [
    "## Average division- nothing to compare since one product comes into this category too"
   ]
  },
  {
   "cell_type": "code",
   "execution_count": 139,
   "metadata": {},
   "outputs": [
    {
     "data": {
      "text/plain": [
       "<matplotlib.axes._subplots.AxesSubplot at 0x7fa988e089d0>"
      ]
     },
     "execution_count": 139,
     "metadata": {},
     "output_type": "execute_result"
    },
    {
     "data": {
      "image/png": "[encoded data removed]",
      "text/plain": [
       "<Figure size 432x288 with 1 Axes>"
      ]
     },
     "metadata": {
      "needs_background": "light"
     },
     "output_type": "display_data"
    }
   ],
   "source": [
    "sns.barplot(x='Products',y='Count',data=df_avg_sales_product)"
   ]
  },
  {
   "cell_type": "code",
   "execution_count": 140,
   "metadata": {},
   "outputs": [],
   "source": [
    "## low division"
   ]
  },
  {
   "cell_type": "code",
   "execution_count": 151,
   "metadata": {},
   "outputs": [
    {
     "data": {
      "image/png": "[encoded data removed]",
      "text/plain": [
       "<Figure size 1440x720 with 1 Axes>"
      ]
     },
     "metadata": {
      "needs_background": "light"
     },
     "output_type": "display_data"
    }
   ],
   "source": [
    "sns.barplot(x='Products',y='Count',data=df_low_sales_product)\n",
    "plt.gcf().set_size_inches(20,10)"
   ]
  },
  {
   "cell_type": "code",
   "execution_count": 152,
   "metadata": {},
   "outputs": [
    {
     "data": {
      "text/plain": [
       "Count    57.384615\n",
       "dtype: float64"
      ]
     },
     "execution_count": 152,
     "metadata": {},
     "output_type": "execute_result"
    }
   ],
   "source": [
    "df_low_sales_product.mean()"
   ]
  },
  {
   "cell_type": "code",
   "execution_count": 153,
   "metadata": {},
   "outputs": [
    {
     "data": {
      "text/plain": [
       "Count    62.0\n",
       "dtype: float64"
      ]
     },
     "execution_count": 153,
     "metadata": {},
     "output_type": "execute_result"
    }
   ],
   "source": [
    "df_low_sales_product.median()"
   ]
  },
  {
   "cell_type": "code",
   "execution_count": 150,
   "metadata": {},
   "outputs": [
    {
     "data": {
      "text/plain": [
       "'Massager'"
      ]
     },
     "execution_count": 150,
     "metadata": {},
     "output_type": "execute_result"
    }
   ],
   "source": [
    "df_low_sales_product.iloc[np.argmax(df_low_sales_product['Count'])]['Products']"
   ]
  },
  {
   "cell_type": "code",
   "execution_count": 173,
   "metadata": {},
   "outputs": [
    {
     "data": {
      "text/html": [
       "<div>\n",
       "<style scoped>\n",
       "    .dataframe tbody tr th:only-of-type {\n",
       "        vertical-align: middle;\n",
       "    }\n",
       "\n",
       "    .dataframe tbody tr th {\n",
       "        vertical-align: top;\n",
       "    }\n",
       "\n",
       "    .dataframe thead th {\n",
       "        text-align: right;\n",
       "    }\n",
       "</style>\n",
       "<table border=\"1\" class=\"dataframe\">\n",
       "  <thead>\n",
       "    <tr style=\"text-align: right;\">\n",
       "      <th></th>\n",
       "      <th>Products</th>\n",
       "      <th>Count</th>\n",
       "      <th>SalesBin</th>\n",
       "    </tr>\n",
       "  </thead>\n",
       "  <tbody>\n",
       "    <tr>\n",
       "      <th>59</th>\n",
       "      <td>Massager</td>\n",
       "      <td>90</td>\n",
       "      <td>low sales</td>\n",
       "    </tr>\n",
       "    <tr>\n",
       "      <th>44</th>\n",
       "      <td>Home Appliances</td>\n",
       "      <td>83</td>\n",
       "      <td>low sales</td>\n",
       "    </tr>\n",
       "    <tr>\n",
       "      <th>95</th>\n",
       "      <td>Steam Irons</td>\n",
       "      <td>77</td>\n",
       "      <td>low sales</td>\n",
       "    </tr>\n",
       "    <tr>\n",
       "      <th>36</th>\n",
       "      <td>Furniture</td>\n",
       "      <td>71</td>\n",
       "      <td>low sales</td>\n",
       "    </tr>\n",
       "    <tr>\n",
       "      <th>123</th>\n",
       "      <td>kurti</td>\n",
       "      <td>66</td>\n",
       "      <td>low sales</td>\n",
       "    </tr>\n",
       "  </tbody>\n",
       "</table>\n",
       "</div>"
      ],
      "text/plain": [
       "            Products  Count   SalesBin\n",
       "59          Massager     90  low sales\n",
       "44   Home Appliances     83  low sales\n",
       "95       Steam Irons     77  low sales\n",
       "36         Furniture     71  low sales\n",
       "123            kurti     66  low sales"
      ]
     },
     "execution_count": 173,
     "metadata": {},
     "output_type": "execute_result"
    }
   ],
   "source": [
    "df_low_sales_product.sort_values(by=[\"Count\"],ascending=False)[:5] "
   ]
  },
  {
   "cell_type": "code",
   "execution_count": 154,
   "metadata": {},
   "outputs": [],
   "source": [
    "#So, low division is quiet normally distributed  "
   ]
  },
  {
   "cell_type": "code",
   "execution_count": 155,
   "metadata": {},
   "outputs": [],
   "source": [
    "##  very low division -had to be divided further into 2 sections "
   ]
  },
  {
   "cell_type": "code",
   "execution_count": 158,
   "metadata": {},
   "outputs": [],
   "source": [
    "df_vlow_sales_product_notconsidered=df_vlow_sales_product[df_vlow_sales_product['Count']<10]\n",
    "df_vlow_sales_product_considered=df_vlow_sales_product[df_vlow_sales_product['Count']>=10]\n"
   ]
  },
  {
   "cell_type": "code",
   "execution_count": 159,
   "metadata": {},
   "outputs": [
    {
     "data": {
      "text/html": [
       "<div>\n",
       "<style scoped>\n",
       "    .dataframe tbody tr th:only-of-type {\n",
       "        vertical-align: middle;\n",
       "    }\n",
       "\n",
       "    .dataframe tbody tr th {\n",
       "        vertical-align: top;\n",
       "    }\n",
       "\n",
       "    .dataframe thead th {\n",
       "        text-align: right;\n",
       "    }\n",
       "</style>\n",
       "<table border=\"1\" class=\"dataframe\">\n",
       "  <thead>\n",
       "    <tr style=\"text-align: right;\">\n",
       "      <th></th>\n",
       "      <th>Products</th>\n",
       "      <th>Count</th>\n",
       "      <th>SalesBin</th>\n",
       "    </tr>\n",
       "  </thead>\n",
       "  <tbody>\n",
       "    <tr>\n",
       "      <th>0</th>\n",
       "      <td>Accessories</td>\n",
       "      <td>6</td>\n",
       "      <td>very low sales</td>\n",
       "    </tr>\n",
       "    <tr>\n",
       "      <th>4</th>\n",
       "      <td>Bathroom Essentials,Oils</td>\n",
       "      <td>1</td>\n",
       "      <td>very low sales</td>\n",
       "    </tr>\n",
       "    <tr>\n",
       "      <th>6</th>\n",
       "      <td>Belt</td>\n",
       "      <td>6</td>\n",
       "      <td>very low sales</td>\n",
       "    </tr>\n",
       "    <tr>\n",
       "      <th>7</th>\n",
       "      <td>Belt,Wallet</td>\n",
       "      <td>1</td>\n",
       "      <td>very low sales</td>\n",
       "    </tr>\n",
       "    <tr>\n",
       "      <th>8</th>\n",
       "      <td>Belt,Wallet,Bag</td>\n",
       "      <td>4</td>\n",
       "      <td>very low sales</td>\n",
       "    </tr>\n",
       "    <tr>\n",
       "      <th>...</th>\n",
       "      <td>...</td>\n",
       "      <td>...</td>\n",
       "      <td>...</td>\n",
       "    </tr>\n",
       "    <tr>\n",
       "      <th>128</th>\n",
       "      <td>scarfs,Suits,Kurta</td>\n",
       "      <td>2</td>\n",
       "      <td>very low sales</td>\n",
       "    </tr>\n",
       "    <tr>\n",
       "      <th>129</th>\n",
       "      <td>scarfs,Suits,Kurta,Saree,kurti,Shirts</td>\n",
       "      <td>1</td>\n",
       "      <td>very low sales</td>\n",
       "    </tr>\n",
       "    <tr>\n",
       "      <th>130</th>\n",
       "      <td>shoe rack</td>\n",
       "      <td>3</td>\n",
       "      <td>very low sales</td>\n",
       "    </tr>\n",
       "    <tr>\n",
       "      <th>131</th>\n",
       "      <td>textile product</td>\n",
       "      <td>8</td>\n",
       "      <td>very low sales</td>\n",
       "    </tr>\n",
       "    <tr>\n",
       "      <th>132</th>\n",
       "      <td>wall hanging</td>\n",
       "      <td>4</td>\n",
       "      <td>very low sales</td>\n",
       "    </tr>\n",
       "  </tbody>\n",
       "</table>\n",
       "<p>86 rows × 3 columns</p>\n",
       "</div>"
      ],
      "text/plain": [
       "                                  Products  Count        SalesBin\n",
       "0                              Accessories      6  very low sales\n",
       "4                 Bathroom Essentials,Oils      1  very low sales\n",
       "6                                     Belt      6  very low sales\n",
       "7                              Belt,Wallet      1  very low sales\n",
       "8                          Belt,Wallet,Bag      4  very low sales\n",
       "..                                     ...    ...             ...\n",
       "128                     scarfs,Suits,Kurta      2  very low sales\n",
       "129  scarfs,Suits,Kurta,Saree,kurti,Shirts      1  very low sales\n",
       "130                              shoe rack      3  very low sales\n",
       "131                        textile product      8  very low sales\n",
       "132                           wall hanging      4  very low sales\n",
       "\n",
       "[86 rows x 3 columns]"
      ]
     },
     "execution_count": 159,
     "metadata": {},
     "output_type": "execute_result"
    }
   ],
   "source": [
    "df_vlow_sales_product_notconsidered"
   ]
  },
  {
   "cell_type": "code",
   "execution_count": 160,
   "metadata": {},
   "outputs": [
    {
     "data": {
      "text/html": [
       "<div>\n",
       "<style scoped>\n",
       "    .dataframe tbody tr th:only-of-type {\n",
       "        vertical-align: middle;\n",
       "    }\n",
       "\n",
       "    .dataframe tbody tr th {\n",
       "        vertical-align: top;\n",
       "    }\n",
       "\n",
       "    .dataframe thead th {\n",
       "        text-align: right;\n",
       "    }\n",
       "</style>\n",
       "<table border=\"1\" class=\"dataframe\">\n",
       "  <thead>\n",
       "    <tr style=\"text-align: right;\">\n",
       "      <th></th>\n",
       "      <th>Products</th>\n",
       "      <th>Count</th>\n",
       "      <th>SalesBin</th>\n",
       "    </tr>\n",
       "  </thead>\n",
       "  <tbody>\n",
       "    <tr>\n",
       "      <th>1</th>\n",
       "      <td>Air Cooler</td>\n",
       "      <td>20</td>\n",
       "      <td>very low sales</td>\n",
       "    </tr>\n",
       "    <tr>\n",
       "      <th>2</th>\n",
       "      <td>Attar</td>\n",
       "      <td>17</td>\n",
       "      <td>very low sales</td>\n",
       "    </tr>\n",
       "    <tr>\n",
       "      <th>5</th>\n",
       "      <td>Bedsheet</td>\n",
       "      <td>26</td>\n",
       "      <td>very low sales</td>\n",
       "    </tr>\n",
       "    <tr>\n",
       "      <th>9</th>\n",
       "      <td>Body oil</td>\n",
       "      <td>18</td>\n",
       "      <td>very low sales</td>\n",
       "    </tr>\n",
       "    <tr>\n",
       "      <th>14</th>\n",
       "      <td>Clock</td>\n",
       "      <td>11</td>\n",
       "      <td>very low sales</td>\n",
       "    </tr>\n",
       "    <tr>\n",
       "      <th>15</th>\n",
       "      <td>Cloths</td>\n",
       "      <td>25</td>\n",
       "      <td>very low sales</td>\n",
       "    </tr>\n",
       "    <tr>\n",
       "      <th>18</th>\n",
       "      <td>Cosmetics</td>\n",
       "      <td>12</td>\n",
       "      <td>very low sales</td>\n",
       "    </tr>\n",
       "    <tr>\n",
       "      <th>19</th>\n",
       "      <td>Cotton/Silk</td>\n",
       "      <td>10</td>\n",
       "      <td>very low sales</td>\n",
       "    </tr>\n",
       "    <tr>\n",
       "      <th>20</th>\n",
       "      <td>Crockery</td>\n",
       "      <td>30</td>\n",
       "      <td>very low sales</td>\n",
       "    </tr>\n",
       "    <tr>\n",
       "      <th>26</th>\n",
       "      <td>Duppatta</td>\n",
       "      <td>10</td>\n",
       "      <td>very low sales</td>\n",
       "    </tr>\n",
       "    <tr>\n",
       "      <th>27</th>\n",
       "      <td>Electric Chair</td>\n",
       "      <td>17</td>\n",
       "      <td>very low sales</td>\n",
       "    </tr>\n",
       "    <tr>\n",
       "      <th>29</th>\n",
       "      <td>Etthnic Wear</td>\n",
       "      <td>13</td>\n",
       "      <td>very low sales</td>\n",
       "    </tr>\n",
       "    <tr>\n",
       "      <th>30</th>\n",
       "      <td>Flavored Drinks</td>\n",
       "      <td>20</td>\n",
       "      <td>very low sales</td>\n",
       "    </tr>\n",
       "    <tr>\n",
       "      <th>39</th>\n",
       "      <td>Gems &amp; Jewellery</td>\n",
       "      <td>20</td>\n",
       "      <td>very low sales</td>\n",
       "    </tr>\n",
       "    <tr>\n",
       "      <th>45</th>\n",
       "      <td>Home Decor</td>\n",
       "      <td>16</td>\n",
       "      <td>very low sales</td>\n",
       "    </tr>\n",
       "    <tr>\n",
       "      <th>51</th>\n",
       "      <td>Kitchen appliances</td>\n",
       "      <td>19</td>\n",
       "      <td>very low sales</td>\n",
       "    </tr>\n",
       "    <tr>\n",
       "      <th>57</th>\n",
       "      <td>Lamps</td>\n",
       "      <td>13</td>\n",
       "      <td>very low sales</td>\n",
       "    </tr>\n",
       "    <tr>\n",
       "      <th>61</th>\n",
       "      <td>Mattress</td>\n",
       "      <td>26</td>\n",
       "      <td>very low sales</td>\n",
       "    </tr>\n",
       "    <tr>\n",
       "      <th>68</th>\n",
       "      <td>Necklace</td>\n",
       "      <td>27</td>\n",
       "      <td>very low sales</td>\n",
       "    </tr>\n",
       "    <tr>\n",
       "      <th>71</th>\n",
       "      <td>Papad</td>\n",
       "      <td>10</td>\n",
       "      <td>very low sales</td>\n",
       "    </tr>\n",
       "    <tr>\n",
       "      <th>80</th>\n",
       "      <td>Remote Covers</td>\n",
       "      <td>18</td>\n",
       "      <td>very low sales</td>\n",
       "    </tr>\n",
       "    <tr>\n",
       "      <th>82</th>\n",
       "      <td>Saffron</td>\n",
       "      <td>15</td>\n",
       "      <td>very low sales</td>\n",
       "    </tr>\n",
       "    <tr>\n",
       "      <th>83</th>\n",
       "      <td>Salwar</td>\n",
       "      <td>13</td>\n",
       "      <td>very low sales</td>\n",
       "    </tr>\n",
       "    <tr>\n",
       "      <th>99</th>\n",
       "      <td>Tableware</td>\n",
       "      <td>14</td>\n",
       "      <td>very low sales</td>\n",
       "    </tr>\n",
       "    <tr>\n",
       "      <th>100</th>\n",
       "      <td>Tea</td>\n",
       "      <td>23</td>\n",
       "      <td>very low sales</td>\n",
       "    </tr>\n",
       "    <tr>\n",
       "      <th>101</th>\n",
       "      <td>Television</td>\n",
       "      <td>17</td>\n",
       "      <td>very low sales</td>\n",
       "    </tr>\n",
       "    <tr>\n",
       "      <th>105</th>\n",
       "      <td>Wallet</td>\n",
       "      <td>10</td>\n",
       "      <td>very low sales</td>\n",
       "    </tr>\n",
       "    <tr>\n",
       "      <th>109</th>\n",
       "      <td>Washing Machine</td>\n",
       "      <td>11</td>\n",
       "      <td>very low sales</td>\n",
       "    </tr>\n",
       "    <tr>\n",
       "      <th>119</th>\n",
       "      <td>handloom</td>\n",
       "      <td>29</td>\n",
       "      <td>very low sales</td>\n",
       "    </tr>\n",
       "    <tr>\n",
       "      <th>122</th>\n",
       "      <td>jute bags</td>\n",
       "      <td>15</td>\n",
       "      <td>very low sales</td>\n",
       "    </tr>\n",
       "  </tbody>\n",
       "</table>\n",
       "</div>"
      ],
      "text/plain": [
       "               Products  Count        SalesBin\n",
       "1            Air Cooler     20  very low sales\n",
       "2                 Attar     17  very low sales\n",
       "5              Bedsheet     26  very low sales\n",
       "9              Body oil     18  very low sales\n",
       "14                Clock     11  very low sales\n",
       "15               Cloths     25  very low sales\n",
       "18            Cosmetics     12  very low sales\n",
       "19          Cotton/Silk     10  very low sales\n",
       "20             Crockery     30  very low sales\n",
       "26             Duppatta     10  very low sales\n",
       "27       Electric Chair     17  very low sales\n",
       "29         Etthnic Wear     13  very low sales\n",
       "30      Flavored Drinks     20  very low sales\n",
       "39     Gems & Jewellery     20  very low sales\n",
       "45           Home Decor     16  very low sales\n",
       "51   Kitchen appliances     19  very low sales\n",
       "57                Lamps     13  very low sales\n",
       "61             Mattress     26  very low sales\n",
       "68             Necklace     27  very low sales\n",
       "71                Papad     10  very low sales\n",
       "80        Remote Covers     18  very low sales\n",
       "82              Saffron     15  very low sales\n",
       "83               Salwar     13  very low sales\n",
       "99            Tableware     14  very low sales\n",
       "100                 Tea     23  very low sales\n",
       "101          Television     17  very low sales\n",
       "105              Wallet     10  very low sales\n",
       "109     Washing Machine     11  very low sales\n",
       "119            handloom     29  very low sales\n",
       "122           jute bags     15  very low sales"
      ]
     },
     "execution_count": 160,
     "metadata": {},
     "output_type": "execute_result"
    }
   ],
   "source": [
    "df_vlow_sales_product_considered"
   ]
  },
  {
   "cell_type": "code",
   "execution_count": 167,
   "metadata": {},
   "outputs": [
    {
     "data": {
      "image/png": "[encoded data removed]",
      "text/plain": [
       "<Figure size 2520x720 with 1 Axes>"
      ]
     },
     "metadata": {
      "needs_background": "light"
     },
     "output_type": "display_data"
    }
   ],
   "source": [
    "sns.barplot(x='Products',y='Count',data=df_vlow_sales_product_considered)\n",
    "plt.gcf().set_size_inches(35,10)"
   ]
  },
  {
   "cell_type": "code",
   "execution_count": 163,
   "metadata": {},
   "outputs": [
    {
     "data": {
      "text/plain": [
       "Count    17.5\n",
       "dtype: float64"
      ]
     },
     "execution_count": 163,
     "metadata": {},
     "output_type": "execute_result"
    }
   ],
   "source": [
    "df_vlow_sales_product_considered.mean()"
   ]
  },
  {
   "cell_type": "code",
   "execution_count": 164,
   "metadata": {},
   "outputs": [
    {
     "data": {
      "text/plain": [
       "Count    17.0\n",
       "dtype: float64"
      ]
     },
     "execution_count": 164,
     "metadata": {},
     "output_type": "execute_result"
    }
   ],
   "source": [
    "df_vlow_sales_product_considered.median()"
   ]
  },
  {
   "cell_type": "code",
   "execution_count": 168,
   "metadata": {},
   "outputs": [
    {
     "data": {
      "text/plain": [
       "'Crockery'"
      ]
     },
     "execution_count": 168,
     "metadata": {},
     "output_type": "execute_result"
    }
   ],
   "source": [
    "df_vlow_sales_product_considered.iloc[np.argmax(df_vlow_sales_product_considered['Count'])]['Products']"
   ]
  },
  {
   "cell_type": "code",
   "execution_count": 171,
   "metadata": {},
   "outputs": [
    {
     "data": {
      "text/html": [
       "<div>\n",
       "<style scoped>\n",
       "    .dataframe tbody tr th:only-of-type {\n",
       "        vertical-align: middle;\n",
       "    }\n",
       "\n",
       "    .dataframe tbody tr th {\n",
       "        vertical-align: top;\n",
       "    }\n",
       "\n",
       "    .dataframe thead th {\n",
       "        text-align: right;\n",
       "    }\n",
       "</style>\n",
       "<table border=\"1\" class=\"dataframe\">\n",
       "  <thead>\n",
       "    <tr style=\"text-align: right;\">\n",
       "      <th></th>\n",
       "      <th>Products</th>\n",
       "      <th>Count</th>\n",
       "      <th>SalesBin</th>\n",
       "    </tr>\n",
       "  </thead>\n",
       "  <tbody>\n",
       "    <tr>\n",
       "      <th>20</th>\n",
       "      <td>Crockery</td>\n",
       "      <td>30</td>\n",
       "      <td>very low sales</td>\n",
       "    </tr>\n",
       "    <tr>\n",
       "      <th>119</th>\n",
       "      <td>handloom</td>\n",
       "      <td>29</td>\n",
       "      <td>very low sales</td>\n",
       "    </tr>\n",
       "    <tr>\n",
       "      <th>68</th>\n",
       "      <td>Necklace</td>\n",
       "      <td>27</td>\n",
       "      <td>very low sales</td>\n",
       "    </tr>\n",
       "    <tr>\n",
       "      <th>5</th>\n",
       "      <td>Bedsheet</td>\n",
       "      <td>26</td>\n",
       "      <td>very low sales</td>\n",
       "    </tr>\n",
       "    <tr>\n",
       "      <th>61</th>\n",
       "      <td>Mattress</td>\n",
       "      <td>26</td>\n",
       "      <td>very low sales</td>\n",
       "    </tr>\n",
       "  </tbody>\n",
       "</table>\n",
       "</div>"
      ],
      "text/plain": [
       "     Products  Count        SalesBin\n",
       "20   Crockery     30  very low sales\n",
       "119  handloom     29  very low sales\n",
       "68   Necklace     27  very low sales\n",
       "5    Bedsheet     26  very low sales\n",
       "61   Mattress     26  very low sales"
      ]
     },
     "execution_count": 171,
     "metadata": {},
     "output_type": "execute_result"
    }
   ],
   "source": [
    "df_vlow_sales_product_considered.sort_values(by=[\"Count\"],ascending=False)[:5]  ## top 5 in vlow sales worth to be showcased as conssidered in low sale counts"
   ]
  },
  {
   "cell_type": "code",
   "execution_count": 172,
   "metadata": {},
   "outputs": [],
   "source": [
    "#So, very low division considered part  is quiet normally distributed  "
   ]
  },
  {
   "cell_type": "markdown",
   "metadata": {},
   "source": [
    "## Conclusion"
   ]
  },
  {
   "cell_type": "markdown",
   "metadata": {},
   "source": [
    "<h2>In conclusion, I have divided my search of finding the product to be kept in  exhibition in a stall into 5 divisions (as per sale counts):</h2>\n",
    "<ol>\n",
    "    <li> very low sale count-a)considerable , b) not considerable</li>\n",
    "<li> low sale count</li>\n",
    " <li> average sale count</li>\n",
    " <li> high sale count</li>\n",
    " <li> very high sale count</li>\n",
    "</ol> \n",
    "<h2>Findings :</h2>\n",
    "<ul>\n",
    " <li> <p>So, yeah according to me the products in very high division needs to be kept in upcoming exhibitions for sure!!</p></li>\n",
    "<li> <p>The sngle product in high division can be kept if it has performed quite well in previous exhibtions because then there would be a chance for growth in upcoming exhibitions </p></li>\n",
    " <li> <p>The single product in average division too can be kept if it has performed quite well in previous exhibtions because then there would be a chance for growth in upcoming exhibitions</p></li>\n",
    " <li> <p>The top 5-6 products in low division can be given a chance considering the dataset given the products in these category have outperformed many products in terms of sale counts and also the previous exhibtions record may help in selecting better products to be kept from this section considering the past record</p></li>\n",
    " <li><p>The top 2-3 products in very low division(considered part) can be given a chance if any stall remains </p></li>\n",
    " <li><p>There were many products in this section which have underperfomed and I must say that these product companies needs to develop a better strategy for gaining a place in exhibition cause they aren't performing well based on sale counts</p></li>\n",
    "</ul> \n"
   ]
  },
  {
   "cell_type": "code",
   "execution_count": null,
   "metadata": {},
   "outputs": [],
   "source": []
  }
 ],
 "metadata": {
  "kernelspec": {
   "display_name": "Python 3",
   "language": "python",
   "name": "python3"
  },
  "language_info": {
   "codemirror_mode": {
    "name": "ipython",
    "version": 3
   },
   "file_extension": ".py",
   "mimetype": "text/x-python",
   "name": "python",
   "nbconvert_exporter": "python",
   "pygments_lexer": "ipython3",
   "version": "3.7.6"
  }
 },
 "nbformat": 4,
 "nbformat_minor": 4
}
