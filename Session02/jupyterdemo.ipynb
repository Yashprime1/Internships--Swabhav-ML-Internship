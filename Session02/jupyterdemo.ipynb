{
 "cells": [
  {
   "cell_type": "code",
   "execution_count": 18,
   "metadata": {},
   "outputs": [],
   "source": [
    "import requests"
   ]
  },
  {
   "cell_type": "code",
   "execution_count": 19,
   "metadata": {},
   "outputs": [],
   "source": [
    "resp=requests.get('https://restcountries.eu/rest/v2/all')"
   ]
  },
  {
   "cell_type": "code",
   "execution_count": 20,
   "metadata": {},
   "outputs": [],
   "source": [
    "countries=resp.json()"
   ]
  },
  {
   "cell_type": "code",
   "execution_count": 21,
   "metadata": {},
   "outputs": [
    {
     "name": "stdout",
     "output_type": "stream",
     "text": [
      "<class 'list'>\n"
     ]
    }
   ],
   "source": [
    "print(type(countries))"
   ]
  },
  {
   "cell_type": "code",
   "execution_count": 28,
   "metadata": {},
   "outputs": [],
   "source": [
    "from IPython.display import SVG, display\n",
    "def show_svg(url):\n",
    "        display(SVG(url))\n",
    "        print(url)\n",
    "    "
   ]
  },
  {
   "cell_type": "code",
   "execution_count": 29,
   "metadata": {},
   "outputs": [
    {
     "data": {
      "image/svg+xml": [
       "<svg height=\"900\" viewBox=\"0 0 225 150\" width=\"1350\" xmlns=\"http://www.w3.org/2000/svg\" xmlns:xlink=\"http://www.w3.org/1999/xlink\"><rect fill=\"#f93\" height=\"150\" width=\"225\"/><rect fill=\"#fff\" height=\"50\" width=\"225\" y=\"50\"/><rect fill=\"#128807\" height=\"50\" width=\"225\" y=\"100\"/><g transform=\"translate(112.5,75)\"><circle fill=\"#008\" r=\"20\"/><circle fill=\"#fff\" r=\"17.5\"/><circle fill=\"#008\" r=\"3.5\"/><g id=\"d\"><g id=\"c\"><g id=\"b\"><g id=\"a\"><circle fill=\"#008\" r=\"0.875\" transform=\"rotate(7.5) translate(17.5)\"/><path d=\"M 0,17.5 0.6,7 C 0.6,7 0,2 0,2 0,2 -0.6,7 -0.6,7 L 0,17.5 z\" fill=\"#008\"/></g><use transform=\"rotate(15)\" xlink:href=\"#a\"/></g><use transform=\"rotate(30)\" xlink:href=\"#b\"/></g><use transform=\"rotate(60)\" xlink:href=\"#c\"/></g><use transform=\"rotate(120)\" xlink:href=\"#d\"/><use transform=\"rotate(-120)\" xlink:href=\"#d\"/></g></svg>"
      ],
      "text/plain": [
       "<IPython.core.display.SVG object>"
      ]
     },
     "metadata": {},
     "output_type": "display_data"
    },
    {
     "name": "stdout",
     "output_type": "stream",
     "text": [
      "https://restcountries.eu/data/ind.svg\n"
     ]
    }
   ],
   "source": [
    "for country in countries:\n",
    "    if country['name']=='India':\n",
    "        url=country['flag']\n",
    "        show_svg(url)"
   ]
  },
  {
   "cell_type": "code",
   "execution_count": 43,
   "metadata": {},
   "outputs": [
    {
     "name": "stdout",
     "output_type": "stream",
     "text": [
      "China\n",
      "India\n",
      "United States of America\n",
      "Indonesia\n",
      "Brazil\n",
      "Pakistan\n",
      "Nigeria\n",
      "Bangladesh\n",
      "Russian Federation\n",
      "Japan\n"
     ]
    }
   ],
   "source": [
    "c=sorted(countries, key = lambda i: i['population'],reverse=True)\n",
    "k=0\n",
    "for t in c:\n",
    "    print(t['name'])\n",
    "    k+=1\n",
    "    if(k==10):\n",
    "        break"
   ]
  },
  {
   "cell_type": "code",
   "execution_count": 8,
   "metadata": {},
   "outputs": [
    {
     "data": {
      "text/plain": [
       "{'name': 'Afghanistan',\n",
       " 'topLevelDomain': ['.af'],\n",
       " 'alpha2Code': 'AF',\n",
       " 'alpha3Code': 'AFG',\n",
       " 'callingCodes': ['93'],\n",
       " 'capital': 'Kabul',\n",
       " 'altSpellings': ['AF', 'Afġānistān'],\n",
       " 'region': 'Asia',\n",
       " 'subregion': 'Southern Asia',\n",
       " 'population': 27657145,\n",
       " 'latlng': [33.0, 65.0],\n",
       " 'demonym': 'Afghan',\n",
       " 'area': 652230.0,\n",
       " 'gini': 27.8,\n",
       " 'timezones': ['UTC+04:30'],\n",
       " 'borders': ['IRN', 'PAK', 'TKM', 'UZB', 'TJK', 'CHN'],\n",
       " 'nativeName': 'افغانستان',\n",
       " 'numericCode': '004',\n",
       " 'currencies': [{'code': 'AFN', 'name': 'Afghan afghani', 'symbol': '؋'}],\n",
       " 'languages': [{'iso639_1': 'ps',\n",
       "   'iso639_2': 'pus',\n",
       "   'name': 'Pashto',\n",
       "   'nativeName': 'پښتو'},\n",
       "  {'iso639_1': 'uz',\n",
       "   'iso639_2': 'uzb',\n",
       "   'name': 'Uzbek',\n",
       "   'nativeName': 'Oʻzbek'},\n",
       "  {'iso639_1': 'tk',\n",
       "   'iso639_2': 'tuk',\n",
       "   'name': 'Turkmen',\n",
       "   'nativeName': 'Türkmen'}],\n",
       " 'translations': {'de': 'Afghanistan',\n",
       "  'es': 'Afganistán',\n",
       "  'fr': 'Afghanistan',\n",
       "  'ja': 'アフガニスタン',\n",
       "  'it': 'Afghanistan',\n",
       "  'br': 'Afeganistão',\n",
       "  'pt': 'Afeganistão',\n",
       "  'nl': 'Afghanistan',\n",
       "  'hr': 'Afganistan',\n",
       "  'fa': 'افغانستان'},\n",
       " 'flag': 'https://restcountries.eu/data/afg.svg',\n",
       " 'regionalBlocs': [{'acronym': 'SAARC',\n",
       "   'name': 'South Asian Association for Regional Cooperation',\n",
       "   'otherAcronyms': [],\n",
       "   'otherNames': []}],\n",
       " 'cioc': 'AFG'}"
      ]
     },
     "execution_count": 8,
     "metadata": {},
     "output_type": "execute_result"
    }
   ],
   "source": [
    "countries[0]"
   ]
  },
  {
   "cell_type": "markdown",
   "metadata": {},
   "source": [
    "$ \\sigma $ $ = $ $ \\surd { \\Sigma (X-\\mu)^2 / n}$"
   ]
  },
  {
   "cell_type": "code",
   "execution_count": null,
   "metadata": {},
   "outputs": [],
   "source": []
  }
 ],
 "metadata": {
  "kernelspec": {
   "display_name": "Python 3",
   "language": "python",
   "name": "python3"
  },
  "language_info": {
   "codemirror_mode": {
    "name": "ipython",
    "version": 3
   },
   "file_extension": ".py",
   "mimetype": "text/x-python",
   "name": "python",
   "nbconvert_exporter": "python",
   "pygments_lexer": "ipython3",
   "version": "3.7.6"
  }
 },
 "nbformat": 4,
 "nbformat_minor": 4
}
