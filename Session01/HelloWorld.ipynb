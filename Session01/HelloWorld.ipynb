{
 "cells": [
  {
   "cell_type": "code",
   "execution_count": 9,
   "metadata": {},
   "outputs": [
    {
     "name": "stdout",
     "output_type": "stream",
     "text": [
      "[{'ID1 ': 7698, 'Name': 'BLAKE', 'Role': 'MANAGER', 'ID2': 7839, 'Date': '1-MAY-81', 'ID3': 2850, 'ID4': 'NULL', 'ID5': 30}, {'ID1 ': 7369, 'Name': 'SMITH', 'Role': 'CLERK', 'ID2': 7902, 'Date': '17-DEC-80', 'ID3': 800, 'ID4': 'NULL', 'ID5': 20}, {'ID1 ': 7788, 'Name': 'SCOTT', 'Role': 'ANALYST', 'ID2': 7566, 'Date': '09-DEC-82', 'ID3': 3000, 'ID4': 'NULL', 'ID5': 20}, {'ID1 ': 7934, 'Name': 'MILLER', 'Role': 'CLERK', 'ID2': 7782, 'Date': '23-JAN-82', 'ID3': 1300, 'ID4': 'NULL', 'ID5': 10}, {'ID1 ': 7654, 'Name': 'MARTIN', 'Role': 'SALESMAN', 'ID2': 7698, 'Date': '28-SEP-81', 'ID3': 1250, 'ID4': 1400, 'ID5': 30}, {'ID1 ': 7499, 'Name': 'ALLEN', 'Role': 'SALESMAN', 'ID2': 7698, 'Date': '20-FEB-81', 'ID3': 1600, 'ID4': 300, 'ID5': 30}, {'ID1 ': 7782, 'Name': 'CLARK', 'Role': 'MANAGER', 'ID2': 7839, 'Date': '9-JUN-81', 'ID3': 2450, 'ID4': 'NULL ', 'ID5': 10}, {'ID1 ': 7844, 'Name': 'TURNER', 'Role': 'SALESMAN', 'ID2': 7698, 'Date': '8-SEP-81', 'ID3': 1500, 'ID4': 0, 'ID5': 30}, {'ID1 ': 7900, 'Name': 'JAMES', 'Role': 'CLERK', 'ID2': 7698, 'Date': '3-DEC-81', 'ID3': 950, 'ID4': 'NULL', 'ID5': 30}, {'ID1 ': 721, 'Name': 'WARD', 'Role': 'SALESMAN', 'ID2': 7698, 'Date': '22-FEB-81', 'ID3': 1250, 'ID4': 500, 'ID5': 30}, {'ID1 ': 7902, 'Name': 'FORD', 'Role': 'ANALYST', 'ID2': 7566, 'Date': '3-DEC-81', 'ID3': 3000, 'ID4': 'NULL', 'ID5': 20}, {'ID1 ': 7876, 'Name': 'ADAMS', 'Role': 'CLERK', 'ID2': 7788, 'Date': '12-JAN-81', 'ID3': 1100, 'ID4': 'NULL', 'ID5': 20}, {'ID1 ': 7566, 'Name': 'JONES', 'Role': 'MANAGER', 'ID2': 7839, 'Date': '2-APR-81', 'ID3': 2875, 'ID4': 'NULL', 'ID5': 20}, {'ID1 ': 7839, 'Name': 'KING-WEB', 'Role': 'PRESIDENT', 'ID2': 'NULL', 'Date': '17-NOV-81', 'ID3': 15000, 'ID4': 'NULL', 'ID5': 10}]\n"
     ]
    }
   ],
   "source": [
    "import json\n",
    "\n",
    "with open('emp.json') as f:\n",
    "  data = json.load(f)\n",
    "\n",
    "print(data)"
   ]
  },
  {
   "cell_type": "code",
   "execution_count": null,
   "metadata": {},
   "outputs": [],
   "source": []
  },
  {
   "cell_type": "code",
   "execution_count": 12,
   "metadata": {},
   "outputs": [],
   "source": [
    "import pickle"
   ]
  },
  {
   "cell_type": "code",
   "execution_count": 15,
   "metadata": {},
   "outputs": [],
   "source": [
    "\n",
    "with open('emps.picle', 'wb') as f:\n",
    "    pickle.dump(data, f)"
   ]
  },
  {
   "cell_type": "code",
   "execution_count": 17,
   "metadata": {},
   "outputs": [
    {
     "name": "stdout",
     "output_type": "stream",
     "text": [
      "{'ID1 ': 7698, 'Name': 'BLAKE', 'Role': 'MANAGER', 'ID2': 7839, 'Date': '1-MAY-81', 'ID3': 2850, 'ID4': 'NULL', 'ID5': 30}\n",
      "{'ID1 ': 7369, 'Name': 'SMITH', 'Role': 'CLERK', 'ID2': 7902, 'Date': '17-DEC-80', 'ID3': 800, 'ID4': 'NULL', 'ID5': 20}\n",
      "{'ID1 ': 7788, 'Name': 'SCOTT', 'Role': 'ANALYST', 'ID2': 7566, 'Date': '09-DEC-82', 'ID3': 3000, 'ID4': 'NULL', 'ID5': 20}\n",
      "{'ID1 ': 7934, 'Name': 'MILLER', 'Role': 'CLERK', 'ID2': 7782, 'Date': '23-JAN-82', 'ID3': 1300, 'ID4': 'NULL', 'ID5': 10}\n",
      "{'ID1 ': 7654, 'Name': 'MARTIN', 'Role': 'SALESMAN', 'ID2': 7698, 'Date': '28-SEP-81', 'ID3': 1250, 'ID4': 1400, 'ID5': 30}\n",
      "{'ID1 ': 7499, 'Name': 'ALLEN', 'Role': 'SALESMAN', 'ID2': 7698, 'Date': '20-FEB-81', 'ID3': 1600, 'ID4': 300, 'ID5': 30}\n",
      "{'ID1 ': 7782, 'Name': 'CLARK', 'Role': 'MANAGER', 'ID2': 7839, 'Date': '9-JUN-81', 'ID3': 2450, 'ID4': 'NULL ', 'ID5': 10}\n",
      "{'ID1 ': 7844, 'Name': 'TURNER', 'Role': 'SALESMAN', 'ID2': 7698, 'Date': '8-SEP-81', 'ID3': 1500, 'ID4': 0, 'ID5': 30}\n",
      "{'ID1 ': 7900, 'Name': 'JAMES', 'Role': 'CLERK', 'ID2': 7698, 'Date': '3-DEC-81', 'ID3': 950, 'ID4': 'NULL', 'ID5': 30}\n",
      "{'ID1 ': 721, 'Name': 'WARD', 'Role': 'SALESMAN', 'ID2': 7698, 'Date': '22-FEB-81', 'ID3': 1250, 'ID4': 500, 'ID5': 30}\n",
      "{'ID1 ': 7902, 'Name': 'FORD', 'Role': 'ANALYST', 'ID2': 7566, 'Date': '3-DEC-81', 'ID3': 3000, 'ID4': 'NULL', 'ID5': 20}\n",
      "{'ID1 ': 7876, 'Name': 'ADAMS', 'Role': 'CLERK', 'ID2': 7788, 'Date': '12-JAN-81', 'ID3': 1100, 'ID4': 'NULL', 'ID5': 20}\n",
      "{'ID1 ': 7566, 'Name': 'JONES', 'Role': 'MANAGER', 'ID2': 7839, 'Date': '2-APR-81', 'ID3': 2875, 'ID4': 'NULL', 'ID5': 20}\n",
      "{'ID1 ': 7839, 'Name': 'KING-WEB', 'Role': 'PRESIDENT', 'ID2': 'NULL', 'Date': '17-NOV-81', 'ID3': 15000, 'ID4': 'NULL', 'ID5': 10}\n"
     ]
    }
   ],
   "source": [
    "with open('emps.picle', 'rb') as f:\n",
    "    obj=pickle.load(f)\n",
    "    for j in obj:\n",
    "        print(j)"
   ]
  },
  {
   "cell_type": "code",
   "execution_count": null,
   "metadata": {},
   "outputs": [],
   "source": []
  }
 ],
 "metadata": {
  "kernelspec": {
   "display_name": "Python 3",
   "language": "python",
   "name": "python3"
  },
  "language_info": {
   "codemirror_mode": {
    "name": "ipython",
    "version": 3
   },
   "file_extension": ".py",
   "mimetype": "text/x-python",
   "name": "python",
   "nbconvert_exporter": "python",
   "pygments_lexer": "ipython3",
   "version": "3.7.6"
  }
 },
 "nbformat": 4,
 "nbformat_minor": 4
}
